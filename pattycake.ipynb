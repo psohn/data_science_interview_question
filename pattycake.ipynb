{
 "cells": [
  {
   "cell_type": "markdown",
   "metadata": {},
   "source": [
    "# Random Room Mate Generator\n",
    "---\n",
    "\n",
    "Myles said that there was a coding interview question that was given to him as a 1 week take-home project. In it, we are given a csv of Petty Patty's roommates and the duration of their tenancy. Our goal is to figure out each range of dates when Petty Patty had more than two roommates, and who they are. If Petty Patty had zero or one roommate during a date range, we ignore them.\n",
    "\n",
    "---\n",
    "\n",
    "In this notebook, we document the code we used to generate the data for the csv of roommates and their tenancies."
   ]
  },
  {
   "cell_type": "code",
   "execution_count": 1,
   "metadata": {},
   "outputs": [],
   "source": [
    "# importing libraries\n",
    "import random\n",
    "import datetime\n",
    "import pandas as pd\n",
    "import numpy as np"
   ]
  },
  {
   "cell_type": "markdown",
   "metadata": {},
   "source": [
    "We create the range of dates that Petty Patty's roommates can be tenants for."
   ]
  },
  {
   "cell_type": "code",
   "execution_count": 2,
   "metadata": {},
   "outputs": [],
   "source": [
    "### dates of Petty Patty's room mates\n",
    "# setting earliest and latest dates for data\n",
    "start_date = datetime.datetime(2014, 1, 1, 0, 0)\n",
    "end_date = datetime.datetime(2015, 1, 1, 0, 0)"
   ]
  },
  {
   "cell_type": "markdown",
   "metadata": {},
   "source": [
    "We select the number of roommates we want Petty Patty to have had."
   ]
  },
  {
   "cell_type": "code",
   "execution_count": 3,
   "metadata": {},
   "outputs": [],
   "source": [
    "# number of roommates we want\n",
    "num_of_roommates = 25"
   ]
  },
  {
   "cell_type": "markdown",
   "metadata": {},
   "source": [
    "We create a DataFrame of the start times and end times of the tenancies of Petty Patty's roommates."
   ]
  },
  {
   "cell_type": "code",
   "execution_count": 4,
   "metadata": {},
   "outputs": [
    {
     "data": {
      "text/html": [
       "<div>\n",
       "<style scoped>\n",
       "    .dataframe tbody tr th:only-of-type {\n",
       "        vertical-align: middle;\n",
       "    }\n",
       "\n",
       "    .dataframe tbody tr th {\n",
       "        vertical-align: top;\n",
       "    }\n",
       "\n",
       "    .dataframe thead th {\n",
       "        text-align: right;\n",
       "    }\n",
       "</style>\n",
       "<table border=\"1\" class=\"dataframe\">\n",
       "  <thead>\n",
       "    <tr style=\"text-align: right;\">\n",
       "      <th></th>\n",
       "      <th>start_time</th>\n",
       "      <th>end_time</th>\n",
       "    </tr>\n",
       "  </thead>\n",
       "  <tbody>\n",
       "    <tr>\n",
       "      <th>0</th>\n",
       "      <td>2014-06-16 05:59:18.124965</td>\n",
       "      <td>2014-07-23 06:11:46.682402</td>\n",
       "    </tr>\n",
       "    <tr>\n",
       "      <th>1</th>\n",
       "      <td>2014-10-22 15:54:46.847032</td>\n",
       "      <td>2014-10-30 02:44:23.908393</td>\n",
       "    </tr>\n",
       "    <tr>\n",
       "      <th>2</th>\n",
       "      <td>2014-01-30 21:28:40.418063</td>\n",
       "      <td>2014-03-26 18:53:49.595775</td>\n",
       "    </tr>\n",
       "    <tr>\n",
       "      <th>3</th>\n",
       "      <td>2014-02-16 21:02:42.584248</td>\n",
       "      <td>2014-02-25 02:29:42.152930</td>\n",
       "    </tr>\n",
       "    <tr>\n",
       "      <th>4</th>\n",
       "      <td>2014-10-18 22:29:18.873309</td>\n",
       "      <td>2014-10-23 10:50:54.639351</td>\n",
       "    </tr>\n",
       "  </tbody>\n",
       "</table>\n",
       "</div>"
      ],
      "text/plain": [
       "                  start_time                   end_time\n",
       "0 2014-06-16 05:59:18.124965 2014-07-23 06:11:46.682402\n",
       "1 2014-10-22 15:54:46.847032 2014-10-30 02:44:23.908393\n",
       "2 2014-01-30 21:28:40.418063 2014-03-26 18:53:49.595775\n",
       "3 2014-02-16 21:02:42.584248 2014-02-25 02:29:42.152930\n",
       "4 2014-10-18 22:29:18.873309 2014-10-23 10:50:54.639351"
      ]
     },
     "execution_count": 4,
     "metadata": {},
     "output_type": "execute_result"
    }
   ],
   "source": [
    "# empty pandas dictionary\n",
    "df_dates = pd.DataFrame({'start_time' : [], 'end_time' : []})\n",
    "\n",
    "# generating a list of random dates between the date ranges\n",
    "for date in range(num_of_roommates):\n",
    "    \n",
    "    random_date_1 = start_date + \\\n",
    "        (end_date - start_date) * random.random() # first random date\n",
    "        \n",
    "    random_date_2 = random_date_1 + \\\n",
    "        (end_date - random_date_1) * random.random() / 5 # second random date after first random date\n",
    "    \n",
    "    df_date = pd.DataFrame({'start_time' : [random_date_1],\n",
    "                            'end_time' : [random_date_2]}) # row of start and end dates\n",
    "    \n",
    "    df_date.index = [date] # setting index of room mate\n",
    "    \n",
    "    df_dates = df_dates.append(df_date) # adding room mate to general list\n",
    "\n",
    "df_dates.head()"
   ]
  },
  {
   "cell_type": "markdown",
   "metadata": {},
   "source": [
    "We import a list of names for Petty Patty's roommates."
   ]
  },
  {
   "cell_type": "code",
   "execution_count": 5,
   "metadata": {},
   "outputs": [
    {
     "data": {
      "text/plain": [
       "0       John\n",
       "1    William\n",
       "2      James\n",
       "3    Charles\n",
       "4     George\n",
       "Name: name, dtype: object"
      ]
     },
     "execution_count": 5,
     "metadata": {},
     "output_type": "execute_result"
    }
   ],
   "source": [
    "### names of Petty Patty's room mates\n",
    "# github name data\n",
    "url = 'https://raw.githubusercontent.com/hadley/data-baby-names/master/baby-names.csv'\n",
    "\n",
    "# importing names\n",
    "df_names = pd.read_csv(url)['name']\n",
    "\n",
    "df_names.head()"
   ]
  },
  {
   "cell_type": "markdown",
   "metadata": {},
   "source": [
    "We create an array of the names of Petty Patty's roommates."
   ]
  },
  {
   "cell_type": "code",
   "execution_count": 6,
   "metadata": {},
   "outputs": [
    {
     "data": {
      "text/plain": [
       "array(['Francis', 'Diego', 'Ruth', 'Garfield', 'Olga', 'Almeda', 'Bert',\n",
       "       'Alysia', 'Edsel', 'Audrey', 'Lonny', 'Clifton', 'Columbus',\n",
       "       'Marc', 'Norval', 'Arnold', 'Travis', 'Lincoln', 'Amos', 'Perley',\n",
       "       'Chris', 'Dick', 'Miles', 'Guillermo', 'Elliot'], dtype='<U32')"
      ]
     },
     "execution_count": 6,
     "metadata": {},
     "output_type": "execute_result"
    }
   ],
   "source": [
    "# empty roommate array\n",
    "roommates = np.array([])\n",
    "\n",
    "# attach a random name as an index\n",
    "for index_name in range(num_of_roommates):\n",
    "    \n",
    "    index_random = random.randint(0, len(df_names) - 1) # picking a random index from list of names\n",
    "    \n",
    "    name_of_roommate = df_names.iloc[index_random] # using index to grab a roommate name\n",
    "    \n",
    "    roommates = np.append(roommates, name_of_roommate) # creating an array of roommate names\n",
    "\n",
    "roommates"
   ]
  },
  {
   "cell_type": "markdown",
   "metadata": {},
   "source": [
    "We turn the names of Petty Patty's roommates into the index."
   ]
  },
  {
   "cell_type": "code",
   "execution_count": 7,
   "metadata": {},
   "outputs": [
    {
     "data": {
      "text/html": [
       "<div>\n",
       "<style scoped>\n",
       "    .dataframe tbody tr th:only-of-type {\n",
       "        vertical-align: middle;\n",
       "    }\n",
       "\n",
       "    .dataframe tbody tr th {\n",
       "        vertical-align: top;\n",
       "    }\n",
       "\n",
       "    .dataframe thead th {\n",
       "        text-align: right;\n",
       "    }\n",
       "</style>\n",
       "<table border=\"1\" class=\"dataframe\">\n",
       "  <thead>\n",
       "    <tr style=\"text-align: right;\">\n",
       "      <th></th>\n",
       "      <th>start_time</th>\n",
       "      <th>end_time</th>\n",
       "    </tr>\n",
       "  </thead>\n",
       "  <tbody>\n",
       "    <tr>\n",
       "      <th>Francis</th>\n",
       "      <td>2014-06-16 05:59:18.124965</td>\n",
       "      <td>2014-07-23 06:11:46.682402</td>\n",
       "    </tr>\n",
       "    <tr>\n",
       "      <th>Diego</th>\n",
       "      <td>2014-10-22 15:54:46.847032</td>\n",
       "      <td>2014-10-30 02:44:23.908393</td>\n",
       "    </tr>\n",
       "    <tr>\n",
       "      <th>Ruth</th>\n",
       "      <td>2014-01-30 21:28:40.418063</td>\n",
       "      <td>2014-03-26 18:53:49.595775</td>\n",
       "    </tr>\n",
       "    <tr>\n",
       "      <th>Garfield</th>\n",
       "      <td>2014-02-16 21:02:42.584248</td>\n",
       "      <td>2014-02-25 02:29:42.152930</td>\n",
       "    </tr>\n",
       "    <tr>\n",
       "      <th>Olga</th>\n",
       "      <td>2014-10-18 22:29:18.873309</td>\n",
       "      <td>2014-10-23 10:50:54.639351</td>\n",
       "    </tr>\n",
       "  </tbody>\n",
       "</table>\n",
       "</div>"
      ],
      "text/plain": [
       "                         start_time                   end_time\n",
       "Francis  2014-06-16 05:59:18.124965 2014-07-23 06:11:46.682402\n",
       "Diego    2014-10-22 15:54:46.847032 2014-10-30 02:44:23.908393\n",
       "Ruth     2014-01-30 21:28:40.418063 2014-03-26 18:53:49.595775\n",
       "Garfield 2014-02-16 21:02:42.584248 2014-02-25 02:29:42.152930\n",
       "Olga     2014-10-18 22:29:18.873309 2014-10-23 10:50:54.639351"
      ]
     },
     "execution_count": 7,
     "metadata": {},
     "output_type": "execute_result"
    }
   ],
   "source": [
    "# adding roommate names as indices to the dates data\n",
    "df_dates.index = roommates\n",
    "\n",
    "df_dates.head()"
   ]
  },
  {
   "cell_type": "markdown",
   "metadata": {},
   "source": [
    "We export the file into a csv for use."
   ]
  },
  {
   "cell_type": "code",
   "execution_count": 8,
   "metadata": {},
   "outputs": [],
   "source": [
    "# exporting to csv file\n",
    "df_dates.to_csv('roommates.csv')"
   ]
  },
  {
   "cell_type": "markdown",
   "metadata": {},
   "source": [
    "And we're done!"
   ]
  }
 ],
 "metadata": {
  "kernelspec": {
   "display_name": "Python 3",
   "language": "python",
   "name": "python3"
  },
  "language_info": {
   "codemirror_mode": {
    "name": "ipython",
    "version": 3
   },
   "file_extension": ".py",
   "mimetype": "text/x-python",
   "name": "python",
   "nbconvert_exporter": "python",
   "pygments_lexer": "ipython3",
   "version": "3.7.4"
  }
 },
 "nbformat": 4,
 "nbformat_minor": 4
}
